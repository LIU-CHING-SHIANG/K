{
 "cells": [
  {
   "cell_type": "code",
   "execution_count": 2,
   "id": "c8c328a7",
   "metadata": {},
   "outputs": [
    {
     "name": "stdout",
     "output_type": "stream",
     "text": [
      "2 3 4 4 4 4 3 2 \n",
      "3 4 6 6 6 6 4 3 \n",
      "4 6 8 8 8 8 6 4 \n",
      "4 6 8 8 8 8 6 4 \n",
      "4 6 8 8 8 8 6 4 \n",
      "4 6 8 8 8 8 6 4 \n",
      "3 4 6 6 6 6 4 3 \n",
      "2 3 4 4 4 4 3 2 \n",
      "(-2, -1) (1, -2) (1, 2) (-2, 1) (-1, -2) (2, 1) (-1, 2) (2, -1) \n",
      "\n",
      "  8  11  32  35  62  13  30  27\n",
      " 33  36   9  12  31  28  61  14\n",
      " 10   7  34  59  56  63  26  29\n",
      " 37  44  57  54  47  60  15  64\n",
      "  6  21  48  45  58  55  52  25\n",
      " 41  38  43  22  53  46   1  16\n",
      " 20   5  40  49  18   3  24  51\n",
      " 39  42  19   4  23  50  17   2\n"
     ]
    }
   ],
   "source": [
    "# Knight's Tour Problem - WARNSDORFF algorithm with dynamic degree-updating\n",
    "import numpy as np\n",
    "import random\n",
    "\n",
    "def knightTour(ni, nj, xi, xj):\n",
    "    # STEP 1 : Creating a degree map by the WARNSDORFF rules...\n",
    "    degree_map = np.array([2,3,4,4,4,4,3,2,\n",
    "                           3,4,6,6,6,6,4,3,\n",
    "                           4,6,8,8,8,8,6,4,\n",
    "                           4,6,8,8,8,8,6,4,\n",
    "                           4,6,8,8,8,8,6,4,\n",
    "                           4,6,8,8,8,8,6,4,\n",
    "                           3,4,6,6,6,6,4,3,\n",
    "                           2,3,4,4,4,4,3,2])\n",
    "    \n",
    "    [print(degree_map[i], end=' \\n' if (i+1) % nj == 0 else ' ') for i in range(ni*nj)]\n",
    "    \n",
    "    # STEP 2 : Creating the 8 possible moves...\n",
    "    eight_moves = [(1,-2),(2,-1),(2,1),(1,2),(-1,2),(-2,1),(-2,-1),(-1,-2)]\n",
    "    eight_moves = random.sample(eight_moves, k=len(eight_moves))\n",
    "    \n",
    "    for i in range(8):\n",
    "        print(eight_moves[i], end=' ')\n",
    "    print('\\n')\n",
    "    \n",
    "    # STEP 3 : Initiating the start position of Knight...\n",
    "    knight_move = ni*nj\n",
    "    \n",
    "    # STEP 4 : Looping for finding the Hamiltonian Path for Knight’s Tour...\n",
    "    for _ in range(knight_move-1):\n",
    "        if knight_move == ni*nj:\n",
    "            degree_map[xi*8+xj] = knight_move\n",
    "\n",
    "        # (1) Checking if the moves within the board boundaries or not...\n",
    "        OK_moves = [(xi+move[0], xj+move[1]) for move in eight_moves \n",
    "                    if 0 <= xi+move[0] <= 7 and 0 <= xj+move[1] <= 7]\n",
    "        \n",
    "        # (2) Finding the next position for Knight's movement...\n",
    "        temp = min(OK_moves, key = lambda move: degree_map[move[0]*8+move[1]])\n",
    "        \n",
    "        # (3) Updating the degree map and the new move...\n",
    "        for ti,tj in OK_moves:\n",
    "            if degree_map[ti*8+tj] >= ni*nj:\n",
    "                continue\n",
    "            else: \n",
    "                degree_map[ti*8+tj] -= 1\n",
    "\n",
    "        knight_move += 1\n",
    "        degree_map[temp[0]*8+temp[1]] = knight_move\n",
    "        xi, xj = temp[0], temp[1]\n",
    "    \n",
    "    # STEP 5 : Print out the Hamiltonian Path for Knight’s Tour...\n",
    "    for i in range(ni*nj):\n",
    "        if i%8 < 7:\n",
    "            print('{0:3d}'.format(degree_map[i]-ni*nj+1), end=' ')\n",
    "        else: \n",
    "            print('{0:3d}'.format(degree_map[i]-ni*nj+1))    \n",
    "    \n",
    "knightTour(8, 8, 5, 6)"
   ]
  },
  {
   "cell_type": "code",
   "execution_count": null,
   "id": "7689c137",
   "metadata": {},
   "outputs": [],
   "source": []
  }
 ],
 "metadata": {
  "kernelspec": {
   "display_name": "Python 3 (ipykernel)",
   "language": "python",
   "name": "python3"
  },
  "language_info": {
   "codemirror_mode": {
    "name": "ipython",
    "version": 3
   },
   "file_extension": ".py",
   "mimetype": "text/x-python",
   "name": "python",
   "nbconvert_exporter": "python",
   "pygments_lexer": "ipython3",
   "version": "3.11.7"
  }
 },
 "nbformat": 4,
 "nbformat_minor": 5
}
