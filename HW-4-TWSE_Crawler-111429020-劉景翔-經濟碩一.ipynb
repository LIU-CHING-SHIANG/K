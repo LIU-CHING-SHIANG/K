{
 "cells": [
  {
   "cell_type": "code",
   "execution_count": 25,
   "id": "d02f5b18",
   "metadata": {},
   "outputs": [],
   "source": [
    "import TWSE_Crawler\n",
    "from TWSE_Crawler import *"
   ]
  },
  {
   "cell_type": "code",
   "execution_count": 32,
   "id": "2a04eee6",
   "metadata": {},
   "outputs": [
    {
     "name": "stdout",
     "output_type": "stream",
     "text": [
      "http://www.twse.com.tw/exchangeReport/STOCK_DAY?response=json&date=20230101&stockNo=2371\n",
      " 輸出 csv 檔案 :  ./stock2371_202301.csv\n",
      "http://www.twse.com.tw/exchangeReport/STOCK_DAY?response=json&date=20230201&stockNo=2371\n",
      " 輸出 csv 檔案 :  ./stock2371_202302.csv\n",
      "http://www.twse.com.tw/exchangeReport/STOCK_DAY?response=json&date=20230301&stockNo=2371\n",
      " 輸出 csv 檔案 :  ./stock2371_202303.csv\n",
      "http://www.twse.com.tw/exchangeReport/STOCK_DAY?response=json&date=20230401&stockNo=2371\n",
      " 輸出 csv 檔案 :  ./stock2371_202304.csv\n",
      "http://www.twse.com.tw/exchangeReport/STOCK_DAY?response=json&date=20230501&stockNo=2371\n",
      " 輸出 csv 檔案 :  ./stock2371_202305.csv\n",
      "http://www.twse.com.tw/exchangeReport/STOCK_DAY?response=json&date=20230601&stockNo=2371\n",
      " 輸出 csv 檔案 :  ./stock2371_202306.csv\n",
      "http://www.twse.com.tw/exchangeReport/STOCK_DAY?response=json&date=20230701&stockNo=2371\n",
      " 輸出 csv 檔案 :  ./stock2371_202307.csv\n",
      "http://www.twse.com.tw/exchangeReport/STOCK_DAY?response=json&date=20230801&stockNo=2371\n",
      " 輸出 csv 檔案 :  ./stock2371_202308.csv\n",
      "http://www.twse.com.tw/exchangeReport/STOCK_DAY?response=json&date=20230901&stockNo=2371\n",
      " 輸出 csv 檔案 :  ./stock2371_202309.csv\n",
      "http://www.twse.com.tw/exchangeReport/STOCK_DAY?response=json&date=20231001&stockNo=2371\n",
      " 輸出 csv 檔案 :  ./stock2371_202310.csv\n",
      "http://www.twse.com.tw/exchangeReport/STOCK_DAY?response=json&date=20231101&stockNo=2371\n",
      " 輸出 csv 檔案 :  ./stock2371_202311.csv\n",
      "http://www.twse.com.tw/exchangeReport/STOCK_DAY?response=json&date=20231201&stockNo=2371\n",
      " 輸出 csv 檔案 :  ./stock2371_202312.csv\n",
      "http://www.twse.com.tw/exchangeReport/STOCK_DAY?response=json&date=20240101&stockNo=2371\n",
      " 輸出 csv 檔案 :  ./stock2371_202401.csv\n",
      "http://www.twse.com.tw/exchangeReport/STOCK_DAY?response=json&date=20240201&stockNo=2371\n",
      " 輸出 csv 檔案 :  ./stock2371_202402.csv\n",
      "http://www.twse.com.tw/exchangeReport/STOCK_DAY?response=json&date=20240301&stockNo=2371\n",
      " 輸出 csv 檔案 :  ./stock2371_202403.csv\n",
      "http://www.twse.com.tw/exchangeReport/STOCK_DAY?response=json&date=20240401&stockNo=2371\n",
      " 輸出 csv 檔案 :  ./stock2371_202404.csv\n"
     ]
    }
   ],
   "source": [
    "import time\n",
    "import pandas as pd\n",
    "\n",
    "stocks = pd.DataFrame()\n",
    "\n",
    "for i in range(16):  # 2023/01 ~ 2024/04\n",
    "    if i < 12:\n",
    "        year = 2023\n",
    "        month = i + 1\n",
    "    else:\n",
    "        year = 2024\n",
    "        month = i - 11\n",
    "\n",
    "    # 爬取資料\n",
    "    current_stock = twse_crawler(year=year, mm=month, dd=1, stockNo=2371)\n",
    "    \n",
    "    # 添加到 DataFrame\n",
    "    stocks = pd.concat([stocks, current_stock])\n",
    "    \n",
    "    # 延遲 3 秒\n",
    "    time.sleep(3)"
   ]
  },
  {
   "cell_type": "code",
   "execution_count": 12,
   "id": "e9deada3",
   "metadata": {},
   "outputs": [
    {
     "data": {
      "text/html": [
       "<div>\n",
       "<style scoped>\n",
       "    .dataframe tbody tr th:only-of-type {\n",
       "        vertical-align: middle;\n",
       "    }\n",
       "\n",
       "    .dataframe tbody tr th {\n",
       "        vertical-align: top;\n",
       "    }\n",
       "\n",
       "    .dataframe thead th {\n",
       "        text-align: right;\n",
       "    }\n",
       "</style>\n",
       "<table border=\"1\" class=\"dataframe\">\n",
       "  <thead>\n",
       "    <tr style=\"text-align: right;\">\n",
       "      <th></th>\n",
       "      <th>成交股數</th>\n",
       "      <th>成交金額</th>\n",
       "      <th>開盤價</th>\n",
       "      <th>最高價</th>\n",
       "      <th>最低價</th>\n",
       "      <th>收盤價</th>\n",
       "      <th>漲跌價差</th>\n",
       "      <th>成交筆數</th>\n",
       "    </tr>\n",
       "  </thead>\n",
       "  <tbody>\n",
       "    <tr>\n",
       "      <th>112/01/03</th>\n",
       "      <td>4,406,235</td>\n",
       "      <td>152,590,239</td>\n",
       "      <td>34.50</td>\n",
       "      <td>34.75</td>\n",
       "      <td>34.35</td>\n",
       "      <td>34.70</td>\n",
       "      <td>+0.20</td>\n",
       "      <td>1,683</td>\n",
       "    </tr>\n",
       "    <tr>\n",
       "      <th>112/01/04</th>\n",
       "      <td>4,498,738</td>\n",
       "      <td>155,457,642</td>\n",
       "      <td>34.70</td>\n",
       "      <td>34.80</td>\n",
       "      <td>34.30</td>\n",
       "      <td>34.30</td>\n",
       "      <td>-0.40</td>\n",
       "      <td>1,804</td>\n",
       "    </tr>\n",
       "    <tr>\n",
       "      <th>112/01/05</th>\n",
       "      <td>3,040,961</td>\n",
       "      <td>104,187,001</td>\n",
       "      <td>34.30</td>\n",
       "      <td>34.45</td>\n",
       "      <td>34.05</td>\n",
       "      <td>34.05</td>\n",
       "      <td>-0.25</td>\n",
       "      <td>1,129</td>\n",
       "    </tr>\n",
       "    <tr>\n",
       "      <th>112/01/06</th>\n",
       "      <td>2,360,820</td>\n",
       "      <td>80,029,512</td>\n",
       "      <td>34.00</td>\n",
       "      <td>34.00</td>\n",
       "      <td>33.80</td>\n",
       "      <td>33.95</td>\n",
       "      <td>-0.10</td>\n",
       "      <td>1,048</td>\n",
       "    </tr>\n",
       "    <tr>\n",
       "      <th>112/01/09</th>\n",
       "      <td>2,712,789</td>\n",
       "      <td>92,016,354</td>\n",
       "      <td>33.95</td>\n",
       "      <td>34.00</td>\n",
       "      <td>33.80</td>\n",
       "      <td>33.95</td>\n",
       "      <td>0.00</td>\n",
       "      <td>1,014</td>\n",
       "    </tr>\n",
       "  </tbody>\n",
       "</table>\n",
       "</div>"
      ],
      "text/plain": [
       "                成交股數         成交金額    開盤價    最高價    最低價    收盤價   漲跌價差   成交筆數\n",
       "112/01/03  4,406,235  152,590,239  34.50  34.75  34.35  34.70  +0.20  1,683\n",
       "112/01/04  4,498,738  155,457,642  34.70  34.80  34.30  34.30  -0.40  1,804\n",
       "112/01/05  3,040,961  104,187,001  34.30  34.45  34.05  34.05  -0.25  1,129\n",
       "112/01/06  2,360,820   80,029,512  34.00  34.00  33.80  33.95  -0.10  1,048\n",
       "112/01/09  2,712,789   92,016,354  33.95  34.00  33.80  33.95   0.00  1,014"
      ]
     },
     "execution_count": 12,
     "metadata": {},
     "output_type": "execute_result"
    }
   ],
   "source": [
    "stocks.head()"
   ]
  },
  {
   "cell_type": "code",
   "execution_count": 13,
   "id": "7c6b1e7d",
   "metadata": {},
   "outputs": [
    {
     "data": {
      "text/html": [
       "<div>\n",
       "<style scoped>\n",
       "    .dataframe tbody tr th:only-of-type {\n",
       "        vertical-align: middle;\n",
       "    }\n",
       "\n",
       "    .dataframe tbody tr th {\n",
       "        vertical-align: top;\n",
       "    }\n",
       "\n",
       "    .dataframe thead th {\n",
       "        text-align: right;\n",
       "    }\n",
       "</style>\n",
       "<table border=\"1\" class=\"dataframe\">\n",
       "  <thead>\n",
       "    <tr style=\"text-align: right;\">\n",
       "      <th></th>\n",
       "      <th>成交股數</th>\n",
       "      <th>成交金額</th>\n",
       "      <th>開盤價</th>\n",
       "      <th>最高價</th>\n",
       "      <th>最低價</th>\n",
       "      <th>收盤價</th>\n",
       "      <th>漲跌價差</th>\n",
       "      <th>成交筆數</th>\n",
       "    </tr>\n",
       "  </thead>\n",
       "  <tbody>\n",
       "    <tr>\n",
       "      <th>113/04/15</th>\n",
       "      <td>271,464,296</td>\n",
       "      <td>16,846,508,418</td>\n",
       "      <td>61.00</td>\n",
       "      <td>64.80</td>\n",
       "      <td>59.00</td>\n",
       "      <td>61.40</td>\n",
       "      <td>+0.90</td>\n",
       "      <td>120,829</td>\n",
       "    </tr>\n",
       "    <tr>\n",
       "      <th>113/04/16</th>\n",
       "      <td>146,278,886</td>\n",
       "      <td>8,648,992,613</td>\n",
       "      <td>60.10</td>\n",
       "      <td>60.80</td>\n",
       "      <td>57.80</td>\n",
       "      <td>58.50</td>\n",
       "      <td>-2.90</td>\n",
       "      <td>59,415</td>\n",
       "    </tr>\n",
       "    <tr>\n",
       "      <th>113/04/17</th>\n",
       "      <td>281,794,464</td>\n",
       "      <td>17,806,140,339</td>\n",
       "      <td>59.50</td>\n",
       "      <td>64.30</td>\n",
       "      <td>59.30</td>\n",
       "      <td>64.30</td>\n",
       "      <td>+5.80</td>\n",
       "      <td>86,798</td>\n",
       "    </tr>\n",
       "    <tr>\n",
       "      <th>113/04/18</th>\n",
       "      <td>313,511,798</td>\n",
       "      <td>20,515,273,329</td>\n",
       "      <td>65.00</td>\n",
       "      <td>67.70</td>\n",
       "      <td>63.50</td>\n",
       "      <td>64.40</td>\n",
       "      <td>+0.10</td>\n",
       "      <td>134,530</td>\n",
       "    </tr>\n",
       "    <tr>\n",
       "      <th>113/04/19</th>\n",
       "      <td>466,644,155</td>\n",
       "      <td>31,548,022,934</td>\n",
       "      <td>67.00</td>\n",
       "      <td>70.70</td>\n",
       "      <td>62.80</td>\n",
       "      <td>69.10</td>\n",
       "      <td>+4.70</td>\n",
       "      <td>184,127</td>\n",
       "    </tr>\n",
       "  </tbody>\n",
       "</table>\n",
       "</div>"
      ],
      "text/plain": [
       "                  成交股數            成交金額    開盤價    最高價    最低價    收盤價   漲跌價差  \\\n",
       "113/04/15  271,464,296  16,846,508,418  61.00  64.80  59.00  61.40  +0.90   \n",
       "113/04/16  146,278,886   8,648,992,613  60.10  60.80  57.80  58.50  -2.90   \n",
       "113/04/17  281,794,464  17,806,140,339  59.50  64.30  59.30  64.30  +5.80   \n",
       "113/04/18  313,511,798  20,515,273,329  65.00  67.70  63.50  64.40  +0.10   \n",
       "113/04/19  466,644,155  31,548,022,934  67.00  70.70  62.80  69.10  +4.70   \n",
       "\n",
       "              成交筆數  \n",
       "113/04/15  120,829  \n",
       "113/04/16   59,415  \n",
       "113/04/17   86,798  \n",
       "113/04/18  134,530  \n",
       "113/04/19  184,127  "
      ]
     },
     "execution_count": 13,
     "metadata": {},
     "output_type": "execute_result"
    }
   ],
   "source": [
    "stocks.tail()"
   ]
  },
  {
   "cell_type": "code",
   "execution_count": 30,
   "id": "c560fa62",
   "metadata": {},
   "outputs": [
    {
     "data": {
      "text/plain": [
       "(166, 8)"
      ]
     },
     "execution_count": 30,
     "metadata": {},
     "output_type": "execute_result"
    }
   ],
   "source": [
    "stocks.shape"
   ]
  },
  {
   "cell_type": "code",
   "execution_count": null,
   "id": "3da29ede",
   "metadata": {},
   "outputs": [],
   "source": [
    "\n"
   ]
  },
  {
   "cell_type": "code",
   "execution_count": 33,
   "id": "da439286",
   "metadata": {},
   "outputs": [
    {
     "name": "stdout",
     "output_type": "stream",
     "text": [
      " 輸出 csv 檔案 :  ./stock2371_2023_2024.csv\n"
     ]
    }
   ],
   "source": [
    "import os.path\n",
    "\n",
    "stockNo = 2371   #  2330 台積電 (TSMC)\n",
    "year = 2023\n",
    "year1 = 2024\n",
    "mydir ='./'      #  檔案路徑\n",
    "csv_file = os.path.join(mydir, \"stock\" + str(stockNo) + '_' + str(year) + '_' + str(year1) + \".csv\") #  建立檔案路徑 + 檔案名稱 stock.csv\n",
    "stocks.to_csv(csv_file, index=True, encoding='utf_8_sig')\n",
    "print(' 輸出 csv 檔案 : ', csv_file)"
   ]
  },
  {
   "cell_type": "code",
   "execution_count": null,
   "id": "bb435350",
   "metadata": {},
   "outputs": [],
   "source": []
  }
 ],
 "metadata": {
  "kernelspec": {
   "display_name": "Python 3 (ipykernel)",
   "language": "python",
   "name": "python3"
  },
  "language_info": {
   "codemirror_mode": {
    "name": "ipython",
    "version": 3
   },
   "file_extension": ".py",
   "mimetype": "text/x-python",
   "name": "python",
   "nbconvert_exporter": "python",
   "pygments_lexer": "ipython3",
   "version": "3.11.7"
  }
 },
 "nbformat": 4,
 "nbformat_minor": 5
}
