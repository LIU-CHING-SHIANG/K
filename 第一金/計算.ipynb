{
 "cells": [
  {
   "cell_type": "code",
   "execution_count": null,
   "id": "0bee54d2-70ba-4d7f-8852-e92582d01c75",
   "metadata": {},
   "outputs": [],
   "source": [
    "import pandas as pd\n",
    "\n",
    "# 创建示例 DataFrame\n",
    "data = {\n",
    "    'Date' : ['2014-10-10', '2014-10-11', '2014-10-12', '2014-10-13', '2014-10-14'],\n",
    "    'Group': ['A', 'A', 'B', 'B', 'B'],\n",
    "    'Close': [100, 200, 150, 300, 250],\n",
    "    'Open': [90, 180, 140, 290, 240]\n",
    "}\n",
    "df = pd.DataFrame(data)\n",
    "df['Date'] = pd.to_datetime(df['Date'])\n",
    "# 使用 groupby().apply() 计算每个组 Close 和 Open 的均值\n",
    "a = df.groupby('Group').apply(lambda x: (x['Close'] + x['Open']).mean()).reset_index()\n",
    "a.columns = ['Group', 'Close_Open_Mean']  # 重命名列，以便更清晰\n",
    "\n",
    "# 使用 merge 将结果合并回原 DataFrame\n",
    "df = pd.merge(df, a, on='Group', how='left')\n",
    "\n",
    "#print(df)\n"
   ]
  }
 ],
 "metadata": {
  "kernelspec": {
   "display_name": "Python 3 (ipykernel)",
   "language": "python",
   "name": "python3"
  },
  "language_info": {
   "codemirror_mode": {
    "name": "ipython",
    "version": 3
   },
   "file_extension": ".py",
   "mimetype": "text/x-python",
   "name": "python",
   "nbconvert_exporter": "python",
   "pygments_lexer": "ipython3",
   "version": "3.12.4"
  }
 },
 "nbformat": 4,
 "nbformat_minor": 5
}
