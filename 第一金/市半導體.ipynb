{
 "cells": [
  {
   "cell_type": "code",
   "execution_count": 3,
   "id": "37453ad6-0823-4acb-834b-3a5c2afea6d8",
   "metadata": {},
   "outputs": [],
   "source": [
    "import pandas as pd\n",
    "from sklearn.model_selection import train_test_split\n",
    "\n",
    "# 讀取 CSV 文件，去除缺失值\n",
    "MacroData = pd.read_csv('MacroData.csv').dropna()\n",
    "\n",
    "# 確認數據類型轉換\n",
    "MacroData.iloc[:, 1:] = MacroData.iloc[:, 1:].apply(pd.to_numeric)\n",
    "\n",
    "# 分割數據集，使用 98.5% 的數據作為訓練集\n",
    "split_point = int(0.985 * len(MacroData))\n",
    "train = MacroData[:split_point]\n",
    "test = MacroData[split_point:]\n"
   ]
  },
  {
   "cell_type": "code",
   "execution_count": 5,
   "id": "661e2731-2dda-4321-80f9-6effe90fdf42",
   "metadata": {},
   "outputs": [],
   "source": [
    "import statsmodels.api as sm\n",
    "from statsmodels.tsa.api import ExponentialSmoothing\n",
    "from statsmodels.tsa.arima.model import ARIMA\n",
    "\n",
    "# 創建時間序列\n",
    "y_ts = pd.Series(train['市半導體'].values, index=pd.date_range(start='2011-01', periods=len(train), freq='ME'))\n",
    "\n",
    "# 建立 ARIMA 模型\n",
    "model = ARIMA(y_ts, order=(1,1,1))\n",
    "model_fit = model.fit()\n",
    "\n",
    "# 預測\n",
    "forecast_result = model_fit.forecast(steps=len(test))\n"
   ]
  },
  {
   "cell_type": "code",
   "execution_count": 7,
   "id": "89a990ac-433d-409c-87ee-5478d53335ea",
   "metadata": {},
   "outputs": [
    {
     "data": {
      "text/plain": [
       "2024-01-31    410.759204\n",
       "2024-02-29    413.590223\n",
       "2024-03-31    415.174397\n",
       "Freq: ME, Name: predicted_mean, dtype: float64"
      ]
     },
     "execution_count": 7,
     "metadata": {},
     "output_type": "execute_result"
    }
   ],
   "source": [
    "forecast_result"
   ]
  },
  {
   "cell_type": "code",
   "execution_count": 15,
   "id": "04b3147a-5cca-45d8-8520-502f0809aeff",
   "metadata": {},
   "outputs": [
    {
     "name": "stdout",
     "output_type": "stream",
     "text": [
      "Add  費城半導體指數 with p-value 2.2227290583584877e-98\n",
      "Add  美國央行利率 with p-value 1.775860019778248e-14\n",
      "Add  股價指數 with p-value 3.219594242938782e-12\n",
      "Add  失業率 with p-value 6.317182106511963e-05\n",
      "Add  消費者物價指數年增率 with p-value 0.0002965418662342792\n",
      "Add  台灣消費者信心指數 with p-value 0.006399010756409681\n",
      "Add  VIX with p-value 0.00021561289218154556\n",
      "Add  美國EPU指數 with p-value 2.21698084095959e-06\n",
      "Add  半導體內銷品物價指數 with p-value 0.0057995347531844665\n",
      "                            OLS Regression Results                            \n",
      "==============================================================================\n",
      "Dep. Variable:                   市半導體   R-squared:                       0.994\n",
      "Model:                            OLS   Adj. R-squared:                  0.993\n",
      "Method:                 Least Squares   F-statistic:                     2123.\n",
      "Date:                Thu, 19 Sep 2024   Prob (F-statistic):          3.57e-125\n",
      "Time:                        19:54:13   Log-Likelihood:                -417.03\n",
      "No. Observations:                 127   AIC:                             854.1\n",
      "Df Residuals:                     117   BIC:                             882.5\n",
      "Df Model:                           9                                         \n",
      "Covariance Type:            nonrobust                                         \n",
      "==============================================================================\n",
      "                 coef    std err          t      P>|t|      [0.025      0.975]\n",
      "------------------------------------------------------------------------------\n",
      "const          7.9948     44.798      0.178      0.859     -80.725      96.715\n",
      "費城半導體指數        0.0583      0.007      8.653      0.000       0.045       0.072\n",
      "美國央行利率       -10.4067      1.104     -9.422      0.000     -12.594      -8.219\n",
      "股價指數           0.0181      0.002      8.585      0.000       0.014       0.022\n",
      "失業率          -24.9113      3.292     -7.567      0.000     -31.431     -18.392\n",
      "消費者物價指數年增率     2.5101      0.734      3.418      0.001       1.056       3.964\n",
      "台灣消費者信心指數     -1.2396      0.199     -6.226      0.000      -1.634      -0.845\n",
      "VIX            0.7672      0.123      6.245      0.000       0.524       1.010\n",
      "美國EPU指數       -0.0596      0.015     -4.098      0.000      -0.088      -0.031\n",
      "半導體內銷品物價指數     0.9531      0.339      2.811      0.006       0.282       1.625\n",
      "==============================================================================\n",
      "Omnibus:                       22.628   Durbin-Watson:                   0.928\n",
      "Prob(Omnibus):                  0.000   Jarque-Bera (JB):              113.514\n",
      "Skew:                          -0.320   Prob(JB):                     2.24e-25\n",
      "Kurtosis:                       7.587   Cond. No.                     7.60e+05\n",
      "==============================================================================\n",
      "\n",
      "Notes:\n",
      "[1] Standard Errors assume that the covariance matrix of the errors is correctly specified.\n",
      "[2] The condition number is large, 7.6e+05. This might indicate that there are\n",
      "strong multicollinearity or other numerical problems.\n",
      "测试集的MSE为: 1415.6723456315258\n"
     ]
    }
   ],
   "source": [
    "import statsmodels.api as sm\n",
    "import pandas as pd\n",
    "import numpy as np\n",
    "\n",
    "# 读取数据\n",
    "MacroData = pd.read_csv(\"MacroData.csv\")\n",
    "MacroData.dropna(inplace=True)\n",
    "\n",
    "# 将除日期列外的所有列转换为数值类型\n",
    "MacroData.iloc[:, 1:] = MacroData.iloc[:, 1:].apply(pd.to_numeric, errors='coerce')\n",
    "\n",
    "# 解析日期列，根据实际的日期格式进行修改\n",
    "# 假设日期格式为 'Jan-11'，即月份缩写和两位数年份\n",
    "MacroData['日期'] = pd.to_datetime(MacroData['日期'], format='%b-%y')\n",
    "\n",
    "# 按日期排序（确保数据的时间顺序正确）\n",
    "MacroData.sort_values('日期', inplace=True)\n",
    "\n",
    "# 划分训练集和测试集（例如，按80%和20%划分）\n",
    "split_point = int(0.8 * len(MacroData))\n",
    "train = MacroData.iloc[:split_point]\n",
    "test = MacroData.iloc[split_point:]\n",
    "\n",
    "# 构建逐步回归的函数，基于 BIC 准则\n",
    "def stepwise_selection(X, y, \n",
    "                       initial_list=[], \n",
    "                       threshold_in=0.01, \n",
    "                       threshold_out=0.05, \n",
    "                       verbose=True):\n",
    "    \"\"\"基于p-value和BIC的逐步回归\"\"\"\n",
    "    included = list(initial_list)\n",
    "    while True:\n",
    "        changed = False\n",
    "        # forward step\n",
    "        excluded = list(set(X.columns) - set(included))\n",
    "        new_pval = pd.Series(index=excluded, dtype=float)\n",
    "        for new_column in excluded:\n",
    "            model = sm.OLS(y, sm.add_constant(pd.DataFrame(X[included + [new_column]]))).fit()\n",
    "            new_pval[new_column] = model.pvalues[new_column]\n",
    "        if new_pval.empty:\n",
    "            break\n",
    "        best_pval = new_pval.min()\n",
    "        if best_pval < threshold_in:\n",
    "            best_feature = new_pval.idxmin()\n",
    "            included.append(best_feature)\n",
    "            changed = True\n",
    "            if verbose:\n",
    "                print(f'Add  {best_feature} with p-value {best_pval}')\n",
    "        \n",
    "        # backward step\n",
    "        model = sm.OLS(y, sm.add_constant(pd.DataFrame(X[included]))).fit()\n",
    "        pvalues = model.pvalues.iloc[1:]\n",
    "        worst_pval = pvalues.max()  # 最大 p-value\n",
    "        if worst_pval > threshold_out:\n",
    "            worst_feature = pvalues.idxmax()\n",
    "            included.remove(worst_feature)\n",
    "            changed = True\n",
    "            if verbose:\n",
    "                print(f'Remove {worst_feature} with p-value {worst_pval}')\n",
    "        \n",
    "        if not changed:\n",
    "            break\n",
    "\n",
    "    return included\n",
    "\n",
    "# 使用逐步回归\n",
    "X_train = train.drop(columns=['市半導體', '日期'])\n",
    "y_train = train['市半導體']\n",
    "\n",
    "# 进行逐步回归\n",
    "resulting_features = stepwise_selection(X_train, y_train)\n",
    "\n",
    "# 使用最终选定的变量重新建模\n",
    "final_model = sm.OLS(y_train, sm.add_constant(X_train[resulting_features])).fit()\n",
    "print(final_model.summary())\n",
    "\n",
    "# 对测试集进行预测并计算MSE\n",
    "X_test = test.drop(columns=['市半導體', '日期'])\n",
    "y_test = test['市半導體']\n",
    "\n",
    "# 确保测试集包含训练时选定的特征\n",
    "X_test = X_test[resulting_features]\n",
    "\n",
    "# 进行预测\n",
    "y_pred = final_model.predict(sm.add_constant(X_test))\n",
    "\n",
    "# 计算MSE\n",
    "mse = np.mean((y_test - y_pred) ** 2)\n",
    "print(f'测试集的MSE为: {mse}')\n"
   ]
  },
  {
   "cell_type": "code",
   "execution_count": 17,
   "id": "0ae0009c-e625-48d0-a49c-362b4445e0f2",
   "metadata": {},
   "outputs": [
    {
     "name": "stdout",
     "output_type": "stream",
     "text": [
      "Add  股價指數 with p-value 2.687574224643153e-133\n",
      "Add  那斯達克指數 with p-value 4.453208512974947e-16\n",
      "Add  CBOE黃金ETF波動率指數 with p-value 1.2558787266509822e-14\n",
      "Add  台灣消費者信心指數 with p-value 8.60831037979936e-05\n",
      "Add  美國全品項CPI with p-value 3.6986008302133595e-09\n",
      "Add  失業率 with p-value 7.975510037374047e-06\n",
      "Add  電力(企業)總用電量 with p-value 0.00029008992932445045\n",
      "Add  消費者物價指數年增率 with p-value 0.003243002114582758\n",
      "                            OLS Regression Results                            \n",
      "==============================================================================\n",
      "Dep. Variable:                   市半導體   R-squared:                       0.995\n",
      "Model:                            OLS   Adj. R-squared:                  0.995\n",
      "Method:                 Least Squares   F-statistic:                     3936.\n",
      "Date:                Wed, 18 Sep 2024   Prob (F-statistic):          2.43e-167\n",
      "Time:                        12:27:30   Log-Likelihood:                -543.60\n",
      "No. Observations:                 156   AIC:                             1105.\n",
      "Df Residuals:                     147   BIC:                             1133.\n",
      "Df Model:                           8                                         \n",
      "Covariance Type:            nonrobust                                         \n",
      "==================================================================================\n",
      "                     coef    std err          t      P>|t|      [0.025      0.975]\n",
      "----------------------------------------------------------------------------------\n",
      "const            266.6765     47.226      5.647      0.000     173.347     360.006\n",
      "股價指數               0.0243      0.001     20.708      0.000       0.022       0.027\n",
      "那斯達克指數             0.0128      0.001     13.506      0.000       0.011       0.015\n",
      "CBOE黃金ETF波動率指數     1.3285      0.169      7.843      0.000       0.994       1.663\n",
      "台灣消費者信心指數         -1.5071      0.172     -8.773      0.000      -1.847      -1.168\n",
      "美國全品項CPI          -0.9296      0.116     -8.032      0.000      -1.158      -0.701\n",
      "失業率              -19.7610      4.301     -4.595      0.000     -28.260     -11.262\n",
      "電力(企業)總用電量        -2.6840      0.708     -3.788      0.000      -4.084      -1.284\n",
      "消費者物價指數年增率         2.4133      0.806      2.993      0.003       0.820       4.007\n",
      "==============================================================================\n",
      "Omnibus:                        2.819   Durbin-Watson:                   0.752\n",
      "Prob(Omnibus):                  0.244   Jarque-Bera (JB):                2.633\n",
      "Skew:                          -0.139   Prob(JB):                        0.268\n",
      "Kurtosis:                       3.572   Cond. No.                     1.02e+06\n",
      "==============================================================================\n",
      "\n",
      "Notes:\n",
      "[1] Standard Errors assume that the covariance matrix of the errors is correctly specified.\n",
      "[2] The condition number is large, 1.02e+06. This might indicate that there are\n",
      "strong multicollinearity or other numerical problems.\n"
     ]
    }
   ],
   "source": [
    "import statsmodels.api as sm\n",
    "import pandas as pd\n",
    "import numpy as np\n",
    "\n",
    "# 構建逐步回歸的函數，基於 BIC 準則\n",
    "def stepwise_selection(X, y, \n",
    "                       initial_list=[], \n",
    "                       threshold_in=0.01, \n",
    "                       threshold_out=0.05, \n",
    "                       verbose=True):\n",
    "    \"\"\"基於p-value和BIC的逐步回歸\"\"\"\n",
    "    included = list(initial_list)\n",
    "    while True:\n",
    "        changed = False\n",
    "        # forward step\n",
    "        excluded = list(set(X.columns) - set(included))\n",
    "        new_pval = pd.Series(index=excluded)\n",
    "        for new_column in excluded:\n",
    "            model = sm.OLS(y, sm.add_constant(pd.DataFrame(X[included + [new_column]]))).fit()\n",
    "            new_pval[new_column] = model.pvalues[new_column]\n",
    "        best_pval = new_pval.min()\n",
    "        if best_pval < threshold_in:\n",
    "            best_feature = new_pval.idxmin()\n",
    "            included.append(best_feature)\n",
    "            changed = True\n",
    "            if verbose:\n",
    "                print(f'Add  {best_feature} with p-value {best_pval}')\n",
    "        \n",
    "        # backward step\n",
    "        model = sm.OLS(y, sm.add_constant(pd.DataFrame(X[included]))).fit()\n",
    "        pvalues = model.pvalues.iloc[1:]\n",
    "        worst_pval = pvalues.max()  # 最大 p-value\n",
    "        if worst_pval > threshold_out:\n",
    "            worst_feature = pvalues.idxmax()\n",
    "            included.remove(worst_feature)\n",
    "            changed = True\n",
    "            if verbose:\n",
    "                print(f'Remove {worst_feature} with p-value {worst_pval}')\n",
    "        \n",
    "        if not changed:\n",
    "            break\n",
    "\n",
    "    return included\n",
    "\n",
    "# 使用逐步回歸\n",
    "X_train = train.drop(columns=['市半導體', '日期'])\n",
    "y_train = train['市半導體']\n",
    "\n",
    "# 進行逐步回歸\n",
    "resulting_features = stepwise_selection(X_train, y_train)\n",
    "\n",
    "# 使用最終選定的變量重新建模\n",
    "final_model = sm.OLS(y_train, sm.add_constant(X_train[resulting_features])).fit()\n",
    "print(final_model.summary())\n"
   ]
  },
  {
   "cell_type": "code",
   "execution_count": 39,
   "id": "a07e9fec-176d-441a-abb5-1fc90bb20022",
   "metadata": {},
   "outputs": [
    {
     "ename": "ValueError",
     "evalue": "shapes (3,35) and (9,) not aligned: 35 (dim 1) != 9 (dim 0)",
     "output_type": "error",
     "traceback": [
      "\u001b[1;31m---------------------------------------------------------------------------\u001b[0m",
      "\u001b[1;31mValueError\u001b[0m                                Traceback (most recent call last)",
      "Cell \u001b[1;32mIn[39], line 1\u001b[0m\n\u001b[1;32m----> 1\u001b[0m bic_pred \u001b[38;5;241m=\u001b[39m final_model\u001b[38;5;241m.\u001b[39mpredict(test\u001b[38;5;241m.\u001b[39mdrop(columns\u001b[38;5;241m=\u001b[39m[\u001b[38;5;124m'\u001b[39m\u001b[38;5;124m市半導體\u001b[39m\u001b[38;5;124m'\u001b[39m, \u001b[38;5;124m'\u001b[39m\u001b[38;5;124m日期\u001b[39m\u001b[38;5;124m'\u001b[39m]))\n",
      "File \u001b[1;32m~\\anaconda3\\Lib\\site-packages\\statsmodels\\base\\model.py:1174\u001b[0m, in \u001b[0;36mResults.predict\u001b[1;34m(self, exog, transform, *args, **kwargs)\u001b[0m\n\u001b[0;32m   1127\u001b[0m \u001b[38;5;250m\u001b[39m\u001b[38;5;124;03m\"\"\"\u001b[39;00m\n\u001b[0;32m   1128\u001b[0m \u001b[38;5;124;03mCall self.model.predict with self.params as the first argument.\u001b[39;00m\n\u001b[0;32m   1129\u001b[0m \n\u001b[1;32m   (...)\u001b[0m\n\u001b[0;32m   1169\u001b[0m \u001b[38;5;124;03mreturned prediction.\u001b[39;00m\n\u001b[0;32m   1170\u001b[0m \u001b[38;5;124;03m\"\"\"\u001b[39;00m\n\u001b[0;32m   1171\u001b[0m exog, exog_index \u001b[38;5;241m=\u001b[39m \u001b[38;5;28mself\u001b[39m\u001b[38;5;241m.\u001b[39m_transform_predict_exog(exog,\n\u001b[0;32m   1172\u001b[0m                                                 transform\u001b[38;5;241m=\u001b[39mtransform)\n\u001b[1;32m-> 1174\u001b[0m predict_results \u001b[38;5;241m=\u001b[39m \u001b[38;5;28mself\u001b[39m\u001b[38;5;241m.\u001b[39mmodel\u001b[38;5;241m.\u001b[39mpredict(\u001b[38;5;28mself\u001b[39m\u001b[38;5;241m.\u001b[39mparams, exog, \u001b[38;5;241m*\u001b[39margs,\n\u001b[0;32m   1175\u001b[0m                                      \u001b[38;5;241m*\u001b[39m\u001b[38;5;241m*\u001b[39mkwargs)\n\u001b[0;32m   1177\u001b[0m \u001b[38;5;28;01mif\u001b[39;00m exog_index \u001b[38;5;129;01mis\u001b[39;00m \u001b[38;5;129;01mnot\u001b[39;00m \u001b[38;5;28;01mNone\u001b[39;00m \u001b[38;5;129;01mand\u001b[39;00m \u001b[38;5;129;01mnot\u001b[39;00m \u001b[38;5;28mhasattr\u001b[39m(predict_results,\n\u001b[0;32m   1178\u001b[0m                                           \u001b[38;5;124m'\u001b[39m\u001b[38;5;124mpredicted_values\u001b[39m\u001b[38;5;124m'\u001b[39m):\n\u001b[0;32m   1179\u001b[0m     \u001b[38;5;28;01mif\u001b[39;00m predict_results\u001b[38;5;241m.\u001b[39mndim \u001b[38;5;241m==\u001b[39m \u001b[38;5;241m1\u001b[39m:\n",
      "File \u001b[1;32m~\\anaconda3\\Lib\\site-packages\\statsmodels\\regression\\linear_model.py:412\u001b[0m, in \u001b[0;36mRegressionModel.predict\u001b[1;34m(self, params, exog)\u001b[0m\n\u001b[0;32m    409\u001b[0m \u001b[38;5;28;01mif\u001b[39;00m exog \u001b[38;5;129;01mis\u001b[39;00m \u001b[38;5;28;01mNone\u001b[39;00m:\n\u001b[0;32m    410\u001b[0m     exog \u001b[38;5;241m=\u001b[39m \u001b[38;5;28mself\u001b[39m\u001b[38;5;241m.\u001b[39mexog\n\u001b[1;32m--> 412\u001b[0m \u001b[38;5;28;01mreturn\u001b[39;00m np\u001b[38;5;241m.\u001b[39mdot(exog, params)\n",
      "\u001b[1;31mValueError\u001b[0m: shapes (3,35) and (9,) not aligned: 35 (dim 1) != 9 (dim 0)"
     ]
    }
   ],
   "source": [
    "bic_pred = final_model.predict(test.drop(columns=['市半導體', '日期']))"
   ]
  },
  {
   "cell_type": "code",
   "execution_count": 37,
   "id": "144d3886-7dac-45ae-8bf9-969e0faaafbe",
   "metadata": {},
   "outputs": [
    {
     "name": "stdout",
     "output_type": "stream",
     "text": [
      "LASSO 選擇的特徵: Index(['製造業營業氣候測驗點', '股價指數', '工業及服務業受僱員工淨進入率', '實質半導體設備進口值', '電力(企業)總用電量',\n",
      "       '失業率', '消費者物價指數年增率', '台灣消費者信心指數', '美國央行利率', 'VIX', 'CBOE黃金ETF波動率指數',\n",
      "       '那斯達克指數', '費城半導體指數'],\n",
      "      dtype='object')\n",
      "LASSO 模型的 RMSE: 18.214016787887065\n"
     ]
    }
   ],
   "source": [
    "from sklearn.linear_model import LassoCV\n",
    "from sklearn.preprocessing import StandardScaler\n",
    "from sklearn.metrics import mean_squared_error\n",
    "import numpy as np\n",
    "\n",
    "# 分離訓練數據中的特徵和目標變量\n",
    "X_train = train.drop(columns=['市半導體', '日期'])\n",
    "y_train = train['市半導體']\n",
    "\n",
    "# 對特徵進行標準化\n",
    "scaler = StandardScaler()\n",
    "X_train_scaled = scaler.fit_transform(X_train)\n",
    "\n",
    "# 使用 LassoCV 進行交叉驗證來選擇 alpha 值\n",
    "lasso = LassoCV(cv=5).fit(X_train_scaled, y_train)\n",
    "\n",
    "# 獲取非零係數的特徵\n",
    "lasso_features = X_train.columns[lasso.coef_ != 0]\n",
    "print(\"LASSO 選擇的特徵:\", lasso_features)\n",
    "\n",
    "# 對測試數據進行標準化並進行預測\n",
    "X_test = test.drop(columns=['市半導體', '日期'])\n",
    "X_test_scaled = scaler.transform(X_test)  # 確保使用與訓練數據相同的 scaler\n",
    "\n",
    "# LASSO 預測\n",
    "lasso_pred = lasso.predict(X_test_scaled)\n",
    "\n",
    "# 計算 RMSE\n",
    "rmse_lasso = np.sqrt(mean_squared_error(test['市半導體'], lasso_pred))\n",
    "print(f'LASSO 模型的 RMSE: {rmse_lasso}')\n",
    "\n"
   ]
  },
  {
   "cell_type": "code",
   "execution_count": 19,
   "id": "7853e7c1-8770-4598-9b8d-33851b184000",
   "metadata": {},
   "outputs": [
    {
     "ename": "NameError",
     "evalue": "name 'smf' is not defined",
     "output_type": "error",
     "traceback": [
      "\u001b[1;31m---------------------------------------------------------------------------\u001b[0m",
      "\u001b[1;31mNameError\u001b[0m                                 Traceback (most recent call last)",
      "Cell \u001b[1;32mIn[19], line 12\u001b[0m\n\u001b[0;32m      9\u001b[0m pca_df[\u001b[38;5;124m'\u001b[39m\u001b[38;5;124m市半導體\u001b[39m\u001b[38;5;124m'\u001b[39m] \u001b[38;5;241m=\u001b[39m train[\u001b[38;5;124m'\u001b[39m\u001b[38;5;124m市半導體\u001b[39m\u001b[38;5;124m'\u001b[39m]\n\u001b[0;32m     11\u001b[0m \u001b[38;5;66;03m# 建立GLM\u001b[39;00m\n\u001b[1;32m---> 12\u001b[0m pca_model \u001b[38;5;241m=\u001b[39m smf\u001b[38;5;241m.\u001b[39mols(\u001b[38;5;124m'\u001b[39m\u001b[38;5;124m市半導體 ~ PC1 + PC2 + PC3 + PC4 + PC5 + PC6\u001b[39m\u001b[38;5;124m'\u001b[39m, data\u001b[38;5;241m=\u001b[39mpca_df)\u001b[38;5;241m.\u001b[39mfit()\n",
      "\u001b[1;31mNameError\u001b[0m: name 'smf' is not defined"
     ]
    }
   ],
   "source": [
    "from sklearn.decomposition import PCA\n",
    "\n",
    "# 進行PCA\n",
    "pca = PCA(n_components=6)\n",
    "pca_data = pca.fit_transform(train.drop(columns=['市半導體', '日期']))\n",
    "\n",
    "# 將主成分數據放入數據框\n",
    "pca_df = pd.DataFrame(pca_data, columns=[f'PC{i+1}' for i in range(6)])\n",
    "pca_df['市半導體'] = train['市半導體']\n",
    "\n",
    "# 建立GLM\n",
    "pca_model = smf.ols('市半導體 ~ PC1 + PC2 + PC3 + PC4 + PC5 + PC6', data=pca_df).fit()\n"
   ]
  },
  {
   "cell_type": "code",
   "execution_count": 25,
   "id": "0ae7f561-2758-46bf-a41c-82fa6e22e21e",
   "metadata": {},
   "outputs": [
    {
     "ename": "ValueError",
     "evalue": "shapes (3,35) and (9,) not aligned: 35 (dim 1) != 9 (dim 0)",
     "output_type": "error",
     "traceback": [
      "\u001b[1;31m---------------------------------------------------------------------------\u001b[0m",
      "\u001b[1;31mValueError\u001b[0m                                Traceback (most recent call last)",
      "Cell \u001b[1;32mIn[25], line 5\u001b[0m\n\u001b[0;32m      2\u001b[0m \u001b[38;5;28;01mimport\u001b[39;00m \u001b[38;5;21;01mnumpy\u001b[39;00m \u001b[38;5;28;01mas\u001b[39;00m \u001b[38;5;21;01mnp\u001b[39;00m\n\u001b[0;32m      4\u001b[0m \u001b[38;5;66;03m# BIC 預測\u001b[39;00m\n\u001b[1;32m----> 5\u001b[0m bic_pred \u001b[38;5;241m=\u001b[39m final_model\u001b[38;5;241m.\u001b[39mpredict(test\u001b[38;5;241m.\u001b[39mdrop(columns\u001b[38;5;241m=\u001b[39m[\u001b[38;5;124m'\u001b[39m\u001b[38;5;124m市半導體\u001b[39m\u001b[38;5;124m'\u001b[39m, \u001b[38;5;124m'\u001b[39m\u001b[38;5;124m日期\u001b[39m\u001b[38;5;124m'\u001b[39m]))\n\u001b[0;32m      6\u001b[0m rmse_bic \u001b[38;5;241m=\u001b[39m np\u001b[38;5;241m.\u001b[39msqrt(mean_squared_error(test[\u001b[38;5;124m'\u001b[39m\u001b[38;5;124m市半導體\u001b[39m\u001b[38;5;124m'\u001b[39m], bic_pred))\n\u001b[0;32m      8\u001b[0m \u001b[38;5;66;03m# LASSO 預測\u001b[39;00m\n",
      "File \u001b[1;32m~\\anaconda3\\Lib\\site-packages\\statsmodels\\base\\model.py:1174\u001b[0m, in \u001b[0;36mResults.predict\u001b[1;34m(self, exog, transform, *args, **kwargs)\u001b[0m\n\u001b[0;32m   1127\u001b[0m \u001b[38;5;250m\u001b[39m\u001b[38;5;124;03m\"\"\"\u001b[39;00m\n\u001b[0;32m   1128\u001b[0m \u001b[38;5;124;03mCall self.model.predict with self.params as the first argument.\u001b[39;00m\n\u001b[0;32m   1129\u001b[0m \n\u001b[1;32m   (...)\u001b[0m\n\u001b[0;32m   1169\u001b[0m \u001b[38;5;124;03mreturned prediction.\u001b[39;00m\n\u001b[0;32m   1170\u001b[0m \u001b[38;5;124;03m\"\"\"\u001b[39;00m\n\u001b[0;32m   1171\u001b[0m exog, exog_index \u001b[38;5;241m=\u001b[39m \u001b[38;5;28mself\u001b[39m\u001b[38;5;241m.\u001b[39m_transform_predict_exog(exog,\n\u001b[0;32m   1172\u001b[0m                                                 transform\u001b[38;5;241m=\u001b[39mtransform)\n\u001b[1;32m-> 1174\u001b[0m predict_results \u001b[38;5;241m=\u001b[39m \u001b[38;5;28mself\u001b[39m\u001b[38;5;241m.\u001b[39mmodel\u001b[38;5;241m.\u001b[39mpredict(\u001b[38;5;28mself\u001b[39m\u001b[38;5;241m.\u001b[39mparams, exog, \u001b[38;5;241m*\u001b[39margs,\n\u001b[0;32m   1175\u001b[0m                                      \u001b[38;5;241m*\u001b[39m\u001b[38;5;241m*\u001b[39mkwargs)\n\u001b[0;32m   1177\u001b[0m \u001b[38;5;28;01mif\u001b[39;00m exog_index \u001b[38;5;129;01mis\u001b[39;00m \u001b[38;5;129;01mnot\u001b[39;00m \u001b[38;5;28;01mNone\u001b[39;00m \u001b[38;5;129;01mand\u001b[39;00m \u001b[38;5;129;01mnot\u001b[39;00m \u001b[38;5;28mhasattr\u001b[39m(predict_results,\n\u001b[0;32m   1178\u001b[0m                                           \u001b[38;5;124m'\u001b[39m\u001b[38;5;124mpredicted_values\u001b[39m\u001b[38;5;124m'\u001b[39m):\n\u001b[0;32m   1179\u001b[0m     \u001b[38;5;28;01mif\u001b[39;00m predict_results\u001b[38;5;241m.\u001b[39mndim \u001b[38;5;241m==\u001b[39m \u001b[38;5;241m1\u001b[39m:\n",
      "File \u001b[1;32m~\\anaconda3\\Lib\\site-packages\\statsmodels\\regression\\linear_model.py:412\u001b[0m, in \u001b[0;36mRegressionModel.predict\u001b[1;34m(self, params, exog)\u001b[0m\n\u001b[0;32m    409\u001b[0m \u001b[38;5;28;01mif\u001b[39;00m exog \u001b[38;5;129;01mis\u001b[39;00m \u001b[38;5;28;01mNone\u001b[39;00m:\n\u001b[0;32m    410\u001b[0m     exog \u001b[38;5;241m=\u001b[39m \u001b[38;5;28mself\u001b[39m\u001b[38;5;241m.\u001b[39mexog\n\u001b[1;32m--> 412\u001b[0m \u001b[38;5;28;01mreturn\u001b[39;00m np\u001b[38;5;241m.\u001b[39mdot(exog, params)\n",
      "\u001b[1;31mValueError\u001b[0m: shapes (3,35) and (9,) not aligned: 35 (dim 1) != 9 (dim 0)"
     ]
    }
   ],
   "source": [
    "from sklearn.metrics import mean_squared_error\n",
    "import numpy as np\n",
    "\n",
    "# BIC 預測\n",
    "bic_pred = final_model.predict(test.drop(columns=['市半導體', '日期']))\n",
    "rmse_bic = np.sqrt(mean_squared_error(test['市半導體'], bic_pred))\n",
    "\n",
    "# LASSO 預測\n",
    "X_test_scaled = scaler.transform(test.drop(columns=['市半導體', '日期']))\n",
    "lasso_pred = lasso.predict(X_test_scaled)\n",
    "rmse_lasso = np.sqrt(mean_squared_error(test['市半導體'], lasso_pred))\n",
    "\n",
    "# PCA 預測\n",
    "pca_test_data = pca.transform(test.drop(columns=['市半導體', '日期']))\n",
    "pca_test_df = pd.DataFrame(pca_test_data, columns=[f'PC{i+1}' for i in range(6)])\n",
    "pca_pred = pca_model.predict(pca_test_df)\n",
    "rmse_pca = np.sqrt(mean_squared_error(test['市半導體'], pca_pred))\n",
    "\n",
    "# 時間序列預測 RMSE\n",
    "rmse_ts = np.sqrt(mean_squared_error(test['市半導體'], forecast_result))\n",
    "\n",
    "# 輸出RMSE\n",
    "print(f'RMSE: BIC={rmse_bic}, LASSO={rmse_lasso}, TS={rmse_ts}, PCA={rmse_pca}')\n"
   ]
  },
  {
   "cell_type": "code",
   "execution_count": 29,
   "id": "fbae1306-9cc0-4416-8ace-85078fe14e65",
   "metadata": {},
   "outputs": [
    {
     "ename": "ValueError",
     "evalue": "shapes (3,8) and (9,) not aligned: 8 (dim 1) != 9 (dim 0)",
     "output_type": "error",
     "traceback": [
      "\u001b[1;31m---------------------------------------------------------------------------\u001b[0m",
      "\u001b[1;31mValueError\u001b[0m                                Traceback (most recent call last)",
      "Cell \u001b[1;32mIn[29], line 6\u001b[0m\n\u001b[0;32m      4\u001b[0m \u001b[38;5;66;03m# BIC 預測\u001b[39;00m\n\u001b[0;32m      5\u001b[0m X_test_bic \u001b[38;5;241m=\u001b[39m sm\u001b[38;5;241m.\u001b[39madd_constant(test\u001b[38;5;241m.\u001b[39mdrop(columns\u001b[38;5;241m=\u001b[39m[\u001b[38;5;124m'\u001b[39m\u001b[38;5;124m市半導體\u001b[39m\u001b[38;5;124m'\u001b[39m, \u001b[38;5;124m'\u001b[39m\u001b[38;5;124m日期\u001b[39m\u001b[38;5;124m'\u001b[39m]))[resulting_features]  \u001b[38;5;66;03m# 使用逐步選擇的變量\u001b[39;00m\n\u001b[1;32m----> 6\u001b[0m bic_pred \u001b[38;5;241m=\u001b[39m final_model\u001b[38;5;241m.\u001b[39mpredict(X_test_bic)\n\u001b[0;32m      7\u001b[0m rmse_bic \u001b[38;5;241m=\u001b[39m np\u001b[38;5;241m.\u001b[39msqrt(mean_squared_error(test[\u001b[38;5;124m'\u001b[39m\u001b[38;5;124m市半導體\u001b[39m\u001b[38;5;124m'\u001b[39m], bic_pred))\n\u001b[0;32m      9\u001b[0m \u001b[38;5;66;03m# LASSO 預測\u001b[39;00m\n",
      "File \u001b[1;32m~\\anaconda3\\Lib\\site-packages\\statsmodels\\base\\model.py:1174\u001b[0m, in \u001b[0;36mResults.predict\u001b[1;34m(self, exog, transform, *args, **kwargs)\u001b[0m\n\u001b[0;32m   1127\u001b[0m \u001b[38;5;250m\u001b[39m\u001b[38;5;124;03m\"\"\"\u001b[39;00m\n\u001b[0;32m   1128\u001b[0m \u001b[38;5;124;03mCall self.model.predict with self.params as the first argument.\u001b[39;00m\n\u001b[0;32m   1129\u001b[0m \n\u001b[1;32m   (...)\u001b[0m\n\u001b[0;32m   1169\u001b[0m \u001b[38;5;124;03mreturned prediction.\u001b[39;00m\n\u001b[0;32m   1170\u001b[0m \u001b[38;5;124;03m\"\"\"\u001b[39;00m\n\u001b[0;32m   1171\u001b[0m exog, exog_index \u001b[38;5;241m=\u001b[39m \u001b[38;5;28mself\u001b[39m\u001b[38;5;241m.\u001b[39m_transform_predict_exog(exog,\n\u001b[0;32m   1172\u001b[0m                                                 transform\u001b[38;5;241m=\u001b[39mtransform)\n\u001b[1;32m-> 1174\u001b[0m predict_results \u001b[38;5;241m=\u001b[39m \u001b[38;5;28mself\u001b[39m\u001b[38;5;241m.\u001b[39mmodel\u001b[38;5;241m.\u001b[39mpredict(\u001b[38;5;28mself\u001b[39m\u001b[38;5;241m.\u001b[39mparams, exog, \u001b[38;5;241m*\u001b[39margs,\n\u001b[0;32m   1175\u001b[0m                                      \u001b[38;5;241m*\u001b[39m\u001b[38;5;241m*\u001b[39mkwargs)\n\u001b[0;32m   1177\u001b[0m \u001b[38;5;28;01mif\u001b[39;00m exog_index \u001b[38;5;129;01mis\u001b[39;00m \u001b[38;5;129;01mnot\u001b[39;00m \u001b[38;5;28;01mNone\u001b[39;00m \u001b[38;5;129;01mand\u001b[39;00m \u001b[38;5;129;01mnot\u001b[39;00m \u001b[38;5;28mhasattr\u001b[39m(predict_results,\n\u001b[0;32m   1178\u001b[0m                                           \u001b[38;5;124m'\u001b[39m\u001b[38;5;124mpredicted_values\u001b[39m\u001b[38;5;124m'\u001b[39m):\n\u001b[0;32m   1179\u001b[0m     \u001b[38;5;28;01mif\u001b[39;00m predict_results\u001b[38;5;241m.\u001b[39mndim \u001b[38;5;241m==\u001b[39m \u001b[38;5;241m1\u001b[39m:\n",
      "File \u001b[1;32m~\\anaconda3\\Lib\\site-packages\\statsmodels\\regression\\linear_model.py:412\u001b[0m, in \u001b[0;36mRegressionModel.predict\u001b[1;34m(self, params, exog)\u001b[0m\n\u001b[0;32m    409\u001b[0m \u001b[38;5;28;01mif\u001b[39;00m exog \u001b[38;5;129;01mis\u001b[39;00m \u001b[38;5;28;01mNone\u001b[39;00m:\n\u001b[0;32m    410\u001b[0m     exog \u001b[38;5;241m=\u001b[39m \u001b[38;5;28mself\u001b[39m\u001b[38;5;241m.\u001b[39mexog\n\u001b[1;32m--> 412\u001b[0m \u001b[38;5;28;01mreturn\u001b[39;00m np\u001b[38;5;241m.\u001b[39mdot(exog, params)\n",
      "\u001b[1;31mValueError\u001b[0m: shapes (3,8) and (9,) not aligned: 8 (dim 1) != 9 (dim 0)"
     ]
    }
   ],
   "source": [
    "from sklearn.metrics import mean_squared_error\n",
    "import numpy as np\n",
    "\n",
    "# BIC 預測\n",
    "X_test_bic = sm.add_constant(test.drop(columns=['市半導體', '日期']))[resulting_features]  # 使用逐步選擇的變量\n",
    "bic_pred = final_model.predict(X_test_bic)\n",
    "rmse_bic = np.sqrt(mean_squared_error(test['市半導體'], bic_pred))\n",
    "\n",
    "# LASSO 預測\n",
    "X_test_scaled = scaler.transform(test.drop(columns=['市半導體', '日期']))  # 確保使用相同的變量進行標準化\n",
    "lasso_pred = lasso.predict(X_test_scaled)\n",
    "rmse_lasso = np.sqrt(mean_squared_error(test['市半導體'], lasso_pred))\n",
    "\n",
    "# PCA 預測\n",
    "pca_test_data = pca.transform(test.drop(columns=['市半導體', '日期']))  # 確保PCA轉換與訓練一致\n",
    "pca_test_df = pd.DataFrame(pca_test_data[:, :6], columns=[f'PC{i+1}' for i in range(6)])  # 使用相同數量的主成分\n",
    "pca_pred = pca_model.predict(pca_test_df)\n",
    "rmse_pca = np.sqrt(mean_squared_error(test['市半導體'], pca_pred))\n",
    "\n",
    "# 時間序列預測 RMSE\n",
    "forecast_values = forecast_result.mean[:len(test)]  # 檢查 forecast_result 是否為正確長度\n",
    "rmse_ts = np.sqrt(mean_squared_error(test['市半導體'], forecast_values))\n",
    "\n",
    "# 輸出RMSE\n",
    "print(f'RMSE: BIC={rmse_bic}, LASSO={rmse_lasso}, TS={rmse_ts}, PCA={rmse_pca}')\n"
   ]
  },
  {
   "cell_type": "code",
   "execution_count": 35,
   "id": "c009bc08-8871-4788-b30f-e57f594b4c46",
   "metadata": {},
   "outputs": [
    {
     "name": "stdout",
     "output_type": "stream",
     "text": [
      "X_test_bic shape: (3, 8)\n"
     ]
    },
    {
     "ename": "NameError",
     "evalue": "name 'X_test_scaled' is not defined",
     "output_type": "error",
     "traceback": [
      "\u001b[1;31m---------------------------------------------------------------------------\u001b[0m",
      "\u001b[1;31mNameError\u001b[0m                                 Traceback (most recent call last)",
      "Cell \u001b[1;32mIn[35], line 2\u001b[0m\n\u001b[0;32m      1\u001b[0m \u001b[38;5;28mprint\u001b[39m(\u001b[38;5;124mf\u001b[39m\u001b[38;5;124m'\u001b[39m\u001b[38;5;124mX_test_bic shape: \u001b[39m\u001b[38;5;132;01m{\u001b[39;00mX_test_bic\u001b[38;5;241m.\u001b[39mshape\u001b[38;5;132;01m}\u001b[39;00m\u001b[38;5;124m'\u001b[39m)  \u001b[38;5;66;03m# BIC\u001b[39;00m\n\u001b[1;32m----> 2\u001b[0m \u001b[38;5;28mprint\u001b[39m(\u001b[38;5;124mf\u001b[39m\u001b[38;5;124m'\u001b[39m\u001b[38;5;124mX_test_scaled shape: \u001b[39m\u001b[38;5;132;01m{\u001b[39;00mX_test_scaled\u001b[38;5;241m.\u001b[39mshape\u001b[38;5;132;01m}\u001b[39;00m\u001b[38;5;124m'\u001b[39m)  \u001b[38;5;66;03m# LASSO\u001b[39;00m\n\u001b[0;32m      3\u001b[0m \u001b[38;5;28mprint\u001b[39m(\u001b[38;5;124mf\u001b[39m\u001b[38;5;124m'\u001b[39m\u001b[38;5;124mpca_test_df shape: \u001b[39m\u001b[38;5;132;01m{\u001b[39;00mpca_test_df\u001b[38;5;241m.\u001b[39mshape\u001b[38;5;132;01m}\u001b[39;00m\u001b[38;5;124m'\u001b[39m)\n",
      "\u001b[1;31mNameError\u001b[0m: name 'X_test_scaled' is not defined"
     ]
    }
   ],
   "source": [
    "print(f'X_test_bic shape: {X_test_bic.shape}')  # BIC\n",
    "print(f'X_test_scaled shape: {X_test_scaled.shape}')  # LASSO\n",
    "print(f'pca_test_df shape: {pca_test_df.shape}')  # PCA\n"
   ]
  },
  {
   "cell_type": "code",
   "execution_count": null,
   "id": "0835d72a-cd01-45d7-aacf-1923634acac8",
   "metadata": {},
   "outputs": [],
   "source": []
  }
 ],
 "metadata": {
  "kernelspec": {
   "display_name": "Python 3 (ipykernel)",
   "language": "python",
   "name": "python3"
  },
  "language_info": {
   "codemirror_mode": {
    "name": "ipython",
    "version": 3
   },
   "file_extension": ".py",
   "mimetype": "text/x-python",
   "name": "python",
   "nbconvert_exporter": "python",
   "pygments_lexer": "ipython3",
   "version": "3.12.4"
  }
 },
 "nbformat": 4,
 "nbformat_minor": 5
}
