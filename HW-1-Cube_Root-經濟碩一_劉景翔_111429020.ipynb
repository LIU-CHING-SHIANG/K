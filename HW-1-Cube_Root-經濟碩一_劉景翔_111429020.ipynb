{
 "cells": [
  {
   "cell_type": "code",
   "execution_count": 11,
   "id": "6b5eccfa",
   "metadata": {},
   "outputs": [
    {
     "name": "stdout",
     "output_type": "stream",
     "text": [
      "Enter a real number: 65\n",
      "--------------------\n",
      " 65.0 的立方根，精確至小數點後第  5  位 :\n",
      " cubeRoot( 65.0 ) = 4.02072\n"
     ]
    }
   ],
   "source": [
    "from math import trunc    #  truncation function\n",
    "from decimal import *\n",
    "getcontext().prec = 10   #  設定最大的精度範圍至小數點後第 10位\n",
    "n = 5     #  設定 問題的精度範圍 至小數點後第 5 位\n",
    "sign = 1\n",
    "a = float(input(\"Enter a real number: \"))\n",
    "if a == 0:\n",
    "    print(' ****  a = ', a, ' :  = 0: ERROR !! ')\n",
    "\n",
    "if a < 0: a, sign = -a, -1  \n",
    "\n",
    "lower, upper = 0, a\n",
    "\n",
    "if 0 < a < 1: upper = 1\n",
    "\n",
    "while round(Decimal(str(upper)),n) != round(Decimal(str(lower)),n):\n",
    "    avg = Decimal(str(upper))+Decimal(str(lower))\n",
    "    avg = avg / Decimal(str(2.0))    \n",
    "    if avg**3 >= a:\n",
    "        upper = avg\n",
    "    else:\n",
    "        lower = avg\n",
    "            \n",
    "sol = Decimal(str(trunc(upper * 10**n))) / Decimal(str(10**n))\n",
    "if sign < 0:\n",
    "    a, sol = a*sign, sol*sign\n",
    "\n",
    "print(20*'-' + '\\n', a, '的立方根，精確至小數點後第 ', n,' 位 :')\n",
    "print(' cubeRoot(', a, ') =', sol)"
   ]
  }
 ],
 "metadata": {
  "kernelspec": {
   "display_name": "Python 3 (ipykernel)",
   "language": "python",
   "name": "python3"
  },
  "language_info": {
   "codemirror_mode": {
    "name": "ipython",
    "version": 3
   },
   "file_extension": ".py",
   "mimetype": "text/x-python",
   "name": "python",
   "nbconvert_exporter": "python",
   "pygments_lexer": "ipython3",
   "version": "3.11.7"
  }
 },
 "nbformat": 4,
 "nbformat_minor": 5
}
